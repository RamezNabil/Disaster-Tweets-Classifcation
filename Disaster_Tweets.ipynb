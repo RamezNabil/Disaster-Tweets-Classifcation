{
  "nbformat": 4,
  "nbformat_minor": 0,
  "metadata": {
    "colab": {
      "name": "Disaster-Tweets.ipynb",
      "provenance": [],
      "collapsed_sections": [],
      "authorship_tag": "ABX9TyNth7/76jN/cPR8fmVbZWHh",
      "include_colab_link": true
    },
    "kernelspec": {
      "name": "python3",
      "display_name": "Python 3"
    },
    "language_info": {
      "name": "python"
    },
    "accelerator": "GPU"
  },
  "cells": [
    {
      "cell_type": "markdown",
      "metadata": {
        "id": "view-in-github",
        "colab_type": "text"
      },
      "source": [
        "<a href=\"https://colab.research.google.com/github/RamezNabil/Disaster-Tweets-Classifcation/blob/main/Disaster_Tweets.ipynb\" target=\"_parent\"><img src=\"https://colab.research.google.com/assets/colab-badge.svg\" alt=\"Open In Colab\"/></a>"
      ]
    },
    {
      "cell_type": "markdown",
      "metadata": {
        "id": "X3C-GA-Idyr5"
      },
      "source": [
        "#Predict which Tweets are about real disasters and which ones are not using different models"
      ]
    },
    {
      "cell_type": "markdown",
      "metadata": {
        "id": "Pzt8HavvHHEs"
      },
      "source": [
        "##Setting up Kaggle api"
      ]
    },
    {
      "cell_type": "code",
      "metadata": {
        "id": "D96cxy-eGnNV"
      },
      "source": [
        "!pip install -q kaggle"
      ],
      "execution_count": 1,
      "outputs": []
    },
    {
      "cell_type": "code",
      "metadata": {
        "id": "2vDDXdT8HQHn"
      },
      "source": [
        "# Upload your Kaggle API json file\n",
        "from google.colab import files\n",
        "files.upload()"
      ],
      "execution_count": null,
      "outputs": []
    },
    {
      "cell_type": "code",
      "metadata": {
        "id": "irbtHi5AkZ01",
        "colab": {
          "base_uri": "https://localhost:8080/"
        },
        "outputId": "5db68fbd-7965-4e02-cc44-909d96cf96f8"
      },
      "source": [
        "!rm -r ~/.kaggle\n",
        "!mkdir ~/.kaggle\n",
        "!mv ./kaggle.json ~/.kaggle/\n",
        "!chmod 600 ~/.kaggle/kaggle.json\n",
        "!kaggle datasets list"
      ],
      "execution_count": 3,
      "outputs": [
        {
          "output_type": "stream",
          "text": [
            "rm: cannot remove '/root/.kaggle': No such file or directory\n",
            "Warning: Looks like you're using an outdated API Version, please consider updating (server 1.5.12 / client 1.5.4)\n",
            "ref                                                         title                                              size  lastUpdated          downloadCount  \n",
            "----------------------------------------------------------  ------------------------------------------------  -----  -------------------  -------------  \n",
            "gpreda/reddit-vaccine-myths                                 Reddit Vaccine Myths                              233KB  2021-08-16 08:33:52          10801  \n",
            "crowww/a-large-scale-fish-dataset                           A Large Scale Fish Dataset                          3GB  2021-04-28 17:03:01           6601  \n",
            "imsparsh/musicnet-dataset                                   MusicNet Dataset                                   22GB  2021-02-18 14:12:19           2498  \n",
            "dhruvildave/wikibooks-dataset                               Wikibooks Dataset                                   2GB  2021-07-03 18:37:20           2666  \n",
            "promptcloud/careerbuilder-job-listing-2020                  Careerbuilder Job Listing 2020                     42MB  2021-03-05 06:59:52           1626  \n",
            "fatiimaezzahra/famous-iconic-women                          Famous Iconic Women                               838MB  2021-02-28 14:56:00           1136  \n",
            "mathurinache/twitter-edge-nodes                             Twitter Edge Nodes                                342MB  2021-03-08 06:43:04            773  \n",
            "nickuzmenkov/nih-chest-xrays-tfrecords                      NIH Chest X-rays TFRecords                         11GB  2021-03-09 04:49:23            947  \n",
            "alsgroup/end-als                                            End ALS Kaggle Challenge                           12GB  2021-04-08 12:16:37            845  \n",
            "simiotic/github-code-snippets                               GitHub Code Snippets                                7GB  2021-03-03 11:34:39            283  \n",
            "coloradokb/dandelionimages                                  DandelionImages                                     4GB  2021-02-19 20:03:47            717  \n",
            "mathurinache/the-lj-speech-dataset                          The LJ Speech Dataset                               3GB  2021-02-15 09:19:54            292  \n",
            "imsparsh/accentdb-core-extended                             AccentDB - Core & Extended                          6GB  2021-02-17 14:22:54            132  \n",
            "landrykezebou/lvzhdr-tone-mapping-benchmark-dataset-tmonet  LVZ-HDR Tone Mapping Benchmark Dataset (TMO-Net)   24GB  2021-03-01 05:03:40            173  \n",
            "stuartjames/lights                                          LightS: Light Specularity Dataset                  18GB  2021-02-18 14:32:26            120  \n",
            "nickuzmenkov/ranzcr-clip-kfold-tfrecords                    RANZCR CLiP KFold TFRecords                         2GB  2021-02-21 13:29:51            121  \n",
            "datasnaek/youtube-new                                       Trending YouTube Video Statistics                 201MB  2019-06-03 00:56:47         146694  \n",
            "zynicide/wine-reviews                                       Wine Reviews                                       51MB  2017-11-27 17:08:04         142049  \n",
            "residentmario/ramen-ratings                                 Ramen Ratings                                      40KB  2018-01-11 16:04:39          25812  \n",
            "datasnaek/chess                                             Chess Game Dataset (Lichess)                        3MB  2017-09-04 03:09:09          20818  \n"
          ],
          "name": "stdout"
        }
      ]
    },
    {
      "cell_type": "markdown",
      "metadata": {
        "id": "8x5hujBKHlPI"
      },
      "source": [
        "##Downloading the dataset and Imports"
      ]
    },
    {
      "cell_type": "code",
      "metadata": {
        "id": "McnpFXxHHrhP",
        "colab": {
          "base_uri": "https://localhost:8080/"
        },
        "outputId": "a7e410f3-c668-404b-e263-17565b21f35f"
      },
      "source": [
        "!kaggle competitions download -c nlp-getting-started"
      ],
      "execution_count": 4,
      "outputs": [
        {
          "output_type": "stream",
          "text": [
            "Warning: Looks like you're using an outdated API Version, please consider updating (server 1.5.12 / client 1.5.4)\n",
            "Downloading sample_submission.csv to /content\n",
            "  0% 0.00/22.2k [00:00<?, ?B/s]\n",
            "100% 22.2k/22.2k [00:00<00:00, 39.2MB/s]\n",
            "Downloading test.csv to /content\n",
            "  0% 0.00/411k [00:00<?, ?B/s]\n",
            "100% 411k/411k [00:00<00:00, 57.6MB/s]\n",
            "Downloading train.csv to /content\n",
            "  0% 0.00/965k [00:00<?, ?B/s]\n",
            "100% 965k/965k [00:00<00:00, 63.5MB/s]\n"
          ],
          "name": "stdout"
        }
      ]
    },
    {
      "cell_type": "code",
      "metadata": {
        "id": "gCabby1MJ5GN"
      },
      "source": [
        "import tensorflow as tf\n",
        "from tensorflow.keras.layers.experimental.preprocessing import TextVectorization\n",
        "from tensorflow.keras import layers\n",
        "import pandas as pd\n",
        "import numpy as np\n",
        "import random\n",
        "import matplotlib.pyplot as plt"
      ],
      "execution_count": 5,
      "outputs": []
    },
    {
      "cell_type": "markdown",
      "metadata": {
        "id": "f_FIh7IzfUzT"
      },
      "source": [
        "##Pre-procesing"
      ]
    },
    {
      "cell_type": "code",
      "metadata": {
        "id": "ndr-jxeYkwaX"
      },
      "source": [
        "# Setting random seed to get stable results\n",
        "tf.random.set_seed(42)"
      ],
      "execution_count": 6,
      "outputs": []
    },
    {
      "cell_type": "code",
      "metadata": {
        "id": "RppF1GOffeIr"
      },
      "source": [
        "# Reading csv into pandas dataframe\n",
        "train_data = pd.read_csv(\"train.csv\")\n",
        "test_data = pd.read_csv(\"test.csv\")\n",
        "train_data.head()\n",
        "\n",
        "# Shuffle training dataframe\n",
        "train_data = train_data.sample(frac=1, random_state=42)"
      ],
      "execution_count": 7,
      "outputs": []
    },
    {
      "cell_type": "code",
      "metadata": {
        "id": "QpytcoP0f4wh"
      },
      "source": [
        "# Splitting data\n",
        "from sklearn.model_selection import train_test_split\n",
        "X_train, X_test, y_train, y_test = train_test_split(train_data['text'].to_numpy(),\n",
        "                                                    train_data['target'].to_numpy(),\n",
        "                                                    test_size=0.2,\n",
        "                                                    random_state=42)"
      ],
      "execution_count": 8,
      "outputs": []
    },
    {
      "cell_type": "code",
      "metadata": {
        "colab": {
          "base_uri": "https://localhost:8080/"
        },
        "id": "-1q8OzTfy44F",
        "outputId": "57801b92-d316-4baa-c0c6-ceb1d4a0d09e"
      },
      "source": [
        "# Checking Classes distribution\n",
        "pd.DataFrame(y_train).value_counts(), pd.DataFrame(y_test).value_counts()"
      ],
      "execution_count": 9,
      "outputs": [
        {
          "output_type": "execute_result",
          "data": {
            "text/plain": [
              "(0    3484\n",
              " 1    2606\n",
              " dtype: int64, 0    858\n",
              " 1    665\n",
              " dtype: int64)"
            ]
          },
          "metadata": {
            "tags": []
          },
          "execution_count": 9
        }
      ]
    },
    {
      "cell_type": "markdown",
      "metadata": {
        "id": "9zHCqtBmu_2z"
      },
      "source": [
        "### Vectorization (Tokenization)"
      ]
    },
    {
      "cell_type": "code",
      "metadata": {
        "colab": {
          "base_uri": "https://localhost:8080/"
        },
        "id": "smQEzg28yHkz",
        "outputId": "6786d3bf-88ae-45ce-c404-c6b4853fd213"
      },
      "source": [
        "# Getting the highest number of lines in 95% of the data\n",
        "VOCAB_LEN = 10000\n",
        "PERCENTILE = 95\n",
        "sentences_len = [len(sentence.split()) for sentence in X_train]\n",
        "output_seq_len = int(np.percentile(sentences_len, PERCENTILE))\n",
        "output_seq_len"
      ],
      "execution_count": 10,
      "outputs": [
        {
          "output_type": "execute_result",
          "data": {
            "text/plain": [
              "24"
            ]
          },
          "metadata": {
            "tags": []
          },
          "execution_count": 10
        }
      ]
    },
    {
      "cell_type": "code",
      "metadata": {
        "id": "EqyGXNNqsZVi"
      },
      "source": [
        "# Building and adapting the text vectorizer\n",
        "vectorizer = TextVectorization(max_tokens=VOCAB_LEN, output_sequence_length=output_seq_len)\n",
        "vectorizer.adapt(X_train)"
      ],
      "execution_count": 11,
      "outputs": []
    },
    {
      "cell_type": "code",
      "metadata": {
        "colab": {
          "base_uri": "https://localhost:8080/"
        },
        "id": "iMC3Tfwx0wvY",
        "outputId": "e589ae52-4470-451b-ec20-6933b69f4b13"
      },
      "source": [
        "# Testing the vectorizer\n",
        "random_sample = random.choice(X_train)\n",
        "print(f\"Sentence: {random_sample}\\n\\nTokenized: {vectorizer([random_sample])}\")"
      ],
      "execution_count": 12,
      "outputs": [
        {
          "output_type": "stream",
          "text": [
            "Sentence: HEALTH FACT: 75% of muscle mass is made up of fluid. Drink water to prevent strains sprains and other injuries. http://t.co/g0dN1ChLUo\n",
            "\n",
            "Tokenized: [[ 631 1186 5810    6 2629  153    9  273   28    6 5157 1415  179    5\n",
            "  1374 7423 7559    7  526  262    1    0    0    0]]\n"
          ],
          "name": "stdout"
        }
      ]
    },
    {
      "cell_type": "code",
      "metadata": {
        "colab": {
          "base_uri": "https://localhost:8080/"
        },
        "id": "2GVYSKXX20OS",
        "outputId": "d5edf5fb-c821-4880-80cd-01da12ecf2ef"
      },
      "source": [
        "# Vectorizer vocab length\n",
        "vectorizer.vocabulary_size()"
      ],
      "execution_count": 13,
      "outputs": [
        {
          "output_type": "execute_result",
          "data": {
            "text/plain": [
              "10000"
            ]
          },
          "metadata": {
            "tags": []
          },
          "execution_count": 13
        }
      ]
    },
    {
      "cell_type": "markdown",
      "metadata": {
        "id": "F04yN9FI2K0z"
      },
      "source": [
        "### Embedding"
      ]
    },
    {
      "cell_type": "code",
      "metadata": {
        "id": "tMsd-ifOmwLj"
      },
      "source": [
        "def Create_embedding_layer():\n",
        "  \"\"\"\n",
        "  Creates and returns a new embedding layer\n",
        "  \"\"\"\n",
        "  embedding = layers.Embedding(input_dim=vectorizer.vocabulary_size(),\n",
        "                             output_dim=128,\n",
        "                             input_length=output_seq_len)\n",
        "  return embedding"
      ],
      "execution_count": 14,
      "outputs": []
    },
    {
      "cell_type": "code",
      "metadata": {
        "colab": {
          "base_uri": "https://localhost:8080/"
        },
        "id": "ysKkaCKR3eAP",
        "outputId": "056f51f8-b5d5-41d2-ec96-fbf3d7ebdddf"
      },
      "source": [
        "# Testing the embedding\n",
        "random_sample = random.choice(X_train)\n",
        "embedding = Create_embedding_layer()\n",
        "print(f\"Sentence: {random_sample}\\n\\nEmbedded: {embedding(vectorizer([random_sample]))}\")"
      ],
      "execution_count": 15,
      "outputs": [
        {
          "output_type": "stream",
          "text": [
            "Sentence: New: NYC Legionnaires' disease death toll rises http://t.co/NqL21ajmiv #follow (http://t.co/18xQ3FmuGE)\n",
            "\n",
            "Embedded: [[[-0.02769482 -0.02347138 -0.00921988 ... -0.02134148 -0.01753038\n",
            "    0.01562332]\n",
            "  [ 0.02423469  0.02318385 -0.00542399 ...  0.00210809  0.04559363\n",
            "   -0.0365983 ]\n",
            "  [ 0.04794505 -0.00881048 -0.00582109 ...  0.00414313 -0.01196804\n",
            "   -0.02754842]\n",
            "  ...\n",
            "  [ 0.01645621 -0.00589932 -0.01471175 ... -0.02511839  0.00912381\n",
            "   -0.00024097]\n",
            "  [ 0.01645621 -0.00589932 -0.01471175 ... -0.02511839  0.00912381\n",
            "   -0.00024097]\n",
            "  [ 0.01645621 -0.00589932 -0.01471175 ... -0.02511839  0.00912381\n",
            "   -0.00024097]]]\n"
          ],
          "name": "stdout"
        }
      ]
    },
    {
      "cell_type": "markdown",
      "metadata": {
        "id": "rOE-a8QK4Awh"
      },
      "source": [
        "### TensorBoard callback"
      ]
    },
    {
      "cell_type": "code",
      "metadata": {
        "id": "R2IBSv954IY5"
      },
      "source": [
        "import datetime\n",
        "def create_tensorboard_callback(experiment_name, dir_name = \"TensorBoard_Experiments\"):\n",
        "  \"\"\"\n",
        "  Creates a TensorBoard callback instance to store log files.\n",
        "  Stores log files with the filepath:\n",
        "    \"dir_name/experiment_name/current_datetime/\"\n",
        "  Args:\n",
        "    dir_name: target directory to store TensorBoard log files\n",
        "    experiment_name: name of experiment directory (e.g. efficientnet_model_1)\n",
        "  \"\"\"\n",
        "  log_dir = dir_name + \"/\" + experiment_name + \"/\" + datetime.datetime.now().strftime(\"%Y%m%d-%H%M%S\")\n",
        "  tensorboard_callback = tf.keras.callbacks.TensorBoard(log_dir=log_dir)\n",
        "  print(f\"Saving TensorBoard log files to: {log_dir}\")\n",
        "  return tensorboard_callback"
      ],
      "execution_count": 16,
      "outputs": []
    },
    {
      "cell_type": "markdown",
      "metadata": {
        "id": "OMasEJCw4-G6"
      },
      "source": [
        "## Model 1 (LSTM)\n",
        "* 78.00% accuracy\n",
        "* Overfitting"
      ]
    },
    {
      "cell_type": "code",
      "metadata": {
        "id": "LVH7Jlp949r9",
        "colab": {
          "base_uri": "https://localhost:8080/",
          "height": 485
        },
        "outputId": "f1ebb610-5d9d-4359-e12e-bfc506e2414e"
      },
      "source": [
        "# Create model\n",
        "inputs = layers.Input(shape=(1,), dtype=\"string\")\n",
        "x = vectorizer(inputs)\n",
        "embedding = Create_embedding_layer()\n",
        "x = embedding(x)\n",
        "x = layers.LSTM(64)(x)\n",
        "output = layers.Dense(1, \"sigmoid\")(x)\n",
        "model_1 = tf.keras.Model(inputs, output)\n",
        "\n",
        "# Compile model\n",
        "model_1.compile(loss = tf.keras.losses.BinaryCrossentropy(),\n",
        "                optimizer = tf.keras.optimizers.Adam(),\n",
        "                metrics = [\"accuracy\"])\n",
        "\n",
        "# Fit model\n",
        "history_1 = model_1.fit(X_train, y_train, epochs=5,\n",
        "                        validation_data=(X_test, y_test),\n",
        "                        callbacks=[create_tensorboard_callback(\"LSTM\")])\n",
        "\n",
        "# Plot validation accuracy\n",
        "pd.DataFrame(history_1.history).plot();\n",
        "plt.xlabel(\"Epochs\")"
      ],
      "execution_count": 17,
      "outputs": [
        {
          "output_type": "stream",
          "text": [
            "Saving TensorBoard log files to: TensorBoard_Experiments/LSTM/20210817-181936\n",
            "Epoch 1/5\n",
            "191/191 [==============================] - 11s 14ms/step - loss: 0.5399 - accuracy: 0.7256 - val_loss: 0.4518 - val_accuracy: 0.7945\n",
            "Epoch 2/5\n",
            "191/191 [==============================] - 1s 7ms/step - loss: 0.3160 - accuracy: 0.8773 - val_loss: 0.4831 - val_accuracy: 0.7853\n",
            "Epoch 3/5\n",
            "191/191 [==============================] - 1s 7ms/step - loss: 0.2146 - accuracy: 0.9261 - val_loss: 0.5860 - val_accuracy: 0.7879\n",
            "Epoch 4/5\n",
            "191/191 [==============================] - 1s 7ms/step - loss: 0.1539 - accuracy: 0.9489 - val_loss: 0.8111 - val_accuracy: 0.7564\n",
            "Epoch 5/5\n",
            "191/191 [==============================] - 1s 7ms/step - loss: 0.1045 - accuracy: 0.9608 - val_loss: 0.7784 - val_accuracy: 0.7800\n"
          ],
          "name": "stdout"
        },
        {
          "output_type": "execute_result",
          "data": {
            "text/plain": [
              "Text(0.5, 0, 'Epochs')"
            ]
          },
          "metadata": {
            "tags": []
          },
          "execution_count": 17
        },
        {
          "output_type": "display_data",
          "data": {
            "image/png": "[encoded data removed]",
            "text/plain": [
              "<Figure size 432x288 with 1 Axes>"
            ]
          },
          "metadata": {
            "tags": [],
            "needs_background": "light"
          }
        }
      ]
    },
    {
      "cell_type": "markdown",
      "metadata": {
        "id": "L6J9kKtfZ_6p"
      },
      "source": [
        "## Model 2 (GRU)\n",
        "* 78.27% accuracy\n",
        "* Overfitting"
      ]
    },
    {
      "cell_type": "code",
      "metadata": {
        "colab": {
          "base_uri": "https://localhost:8080/",
          "height": 484
        },
        "id": "xOqwU68TXoIH",
        "outputId": "6a0a3249-eec8-4a4a-b027-0b6a3257d518"
      },
      "source": [
        "# Create model\n",
        "inputs = layers.Input((1,), dtype=\"string\")\n",
        "x = vectorizer(inputs)\n",
        "embedding = Create_embedding_layer()\n",
        "x = embedding(x)\n",
        "x = layers.GRU(64)(x)\n",
        "output = layers.Dense(1, \"sigmoid\")(x)\n",
        "model_2 = tf.keras.Model(inputs, output)\n",
        "\n",
        "# Compile model\n",
        "model_2.compile(loss = tf.keras.losses.BinaryCrossentropy(),\n",
        "                optimizer = tf.keras.optimizers.Adam(),\n",
        "                metrics = [\"accuracy\"])\n",
        "\n",
        "# Fit model\n",
        "history_2 = model_2.fit(X_train, y_train, epochs=5,\n",
        "                        validation_data=(X_test, y_test),\n",
        "                        callbacks=[create_tensorboard_callback(\"GRU\")])\n",
        "\n",
        "# Plot validation accuracy\n",
        "pd.DataFrame(history_2.history).plot();\n",
        "plt.xlabel(\"Epochs\")"
      ],
      "execution_count": 18,
      "outputs": [
        {
          "output_type": "stream",
          "text": [
            "Saving TensorBoard log files to: TensorBoard_Experiments/GRU/20210817-181959\n",
            "Epoch 1/5\n",
            "191/191 [==============================] - 4s 12ms/step - loss: 0.6384 - accuracy: 0.6194 - val_loss: 0.4806 - val_accuracy: 0.7768\n",
            "Epoch 2/5\n",
            "191/191 [==============================] - 1s 7ms/step - loss: 0.3846 - accuracy: 0.8335 - val_loss: 0.4645 - val_accuracy: 0.7991\n",
            "Epoch 3/5\n",
            "191/191 [==============================] - 1s 7ms/step - loss: 0.2417 - accuracy: 0.9115 - val_loss: 0.5328 - val_accuracy: 0.7925\n",
            "Epoch 4/5\n",
            "191/191 [==============================] - 1s 6ms/step - loss: 0.1655 - accuracy: 0.9452 - val_loss: 0.6053 - val_accuracy: 0.7617\n",
            "Epoch 5/5\n",
            "191/191 [==============================] - 1s 6ms/step - loss: 0.1174 - accuracy: 0.9622 - val_loss: 0.6247 - val_accuracy: 0.7827\n"
          ],
          "name": "stdout"
        },
        {
          "output_type": "execute_result",
          "data": {
            "text/plain": [
              "Text(0.5, 0, 'Epochs')"
            ]
          },
          "metadata": {
            "tags": []
          },
          "execution_count": 18
        },
        {
          "output_type": "display_data",
          "data": {
            "image/png": "[encoded data removed]",
            "text/plain": [
              "<Figure size 432x288 with 1 Axes>"
            ]
          },
          "metadata": {
            "tags": [],
            "needs_background": "light"
          }
        }
      ]
    },
    {
      "cell_type": "markdown",
      "metadata": {
        "id": "qhonw2i5b_X3"
      },
      "source": [
        "## Model 3 (Bi-LSTM)\n",
        "* 78.66% accuracy\n",
        "* Overfitting"
      ]
    },
    {
      "cell_type": "code",
      "metadata": {
        "colab": {
          "base_uri": "https://localhost:8080/",
          "height": 484
        },
        "id": "M1jMhjtLcFMy",
        "outputId": "2383077b-fce8-4592-952e-5bcd84648474"
      },
      "source": [
        "# Build model\n",
        "inputs = layers.Input((1,), dtype=\"string\")\n",
        "x = vectorizer(inputs)\n",
        "embedding = Create_embedding_layer()\n",
        "x = embedding(x)\n",
        "x = layers.Bidirectional(layers.LSTM(64))(x)\n",
        "output = layers.Dense(1, \"sigmoid\")(x)\n",
        "model_3 = tf.keras.Model(inputs, output)\n",
        "\n",
        "# Compile model\n",
        "model_3.compile(loss = tf.keras.losses.BinaryCrossentropy(),\n",
        "                optimizer = tf.keras.optimizers.Adam(),\n",
        "                metrics = [\"accuracy\"])\n",
        "\n",
        "# Fit model\n",
        "history_3 = model_3.fit(X_train, y_train, epochs=5,\n",
        "                        validation_data=(X_test, y_test),\n",
        "                        callbacks=[create_tensorboard_callback(\"Bi_LSTM\")])\n",
        "\n",
        "# Plot validation accuracy\n",
        "pd.DataFrame(history_3.history).plot();\n",
        "plt.xlabel(\"Epochs\")"
      ],
      "execution_count": 19,
      "outputs": [
        {
          "output_type": "stream",
          "text": [
            "Saving TensorBoard log files to: TensorBoard_Experiments/Bi_LSTM/20210817-182009\n",
            "Epoch 1/5\n",
            "191/191 [==============================] - 6s 16ms/step - loss: 0.5245 - accuracy: 0.7396 - val_loss: 0.4536 - val_accuracy: 0.8011\n",
            "Epoch 2/5\n",
            "191/191 [==============================] - 2s 10ms/step - loss: 0.3036 - accuracy: 0.8703 - val_loss: 0.4836 - val_accuracy: 0.8056\n",
            "Epoch 3/5\n",
            "191/191 [==============================] - 2s 9ms/step - loss: 0.1963 - accuracy: 0.9263 - val_loss: 0.5761 - val_accuracy: 0.7833\n",
            "Epoch 4/5\n",
            "191/191 [==============================] - 2s 9ms/step - loss: 0.1328 - accuracy: 0.9519 - val_loss: 0.6132 - val_accuracy: 0.7676\n",
            "Epoch 5/5\n",
            "191/191 [==============================] - 2s 10ms/step - loss: 0.0954 - accuracy: 0.9645 - val_loss: 0.7981 - val_accuracy: 0.7827\n"
          ],
          "name": "stdout"
        },
        {
          "output_type": "execute_result",
          "data": {
            "text/plain": [
              "Text(0.5, 0, 'Epochs')"
            ]
          },
          "metadata": {
            "tags": []
          },
          "execution_count": 19
        },
        {
          "output_type": "display_data",
          "data": {
            "image/png": "[encoded data removed]",
            "text/plain": [
              "<Figure size 432x288 with 1 Axes>"
            ]
          },
          "metadata": {
            "tags": [],
            "needs_background": "light"
          }
        }
      ]
    },
    {
      "cell_type": "markdown",
      "metadata": {
        "id": "SldD6SGweed-"
      },
      "source": [
        "## Model 4 (1D CNN)\n",
        "* 78.73% accuracy\n",
        "* Overfitting"
      ]
    },
    {
      "cell_type": "code",
      "metadata": {
        "colab": {
          "base_uri": "https://localhost:8080/",
          "height": 482
        },
        "id": "Y0ZyceYqeWol",
        "outputId": "9d813649-901b-4529-dfae-fe28016c11ef"
      },
      "source": [
        "# Build Model\n",
        "inputs = layers.Input((1,), dtype=\"string\")\n",
        "x = vectorizer(inputs)\n",
        "embedding = Create_embedding_layer()\n",
        "x = embedding(x)\n",
        "x = layers.Conv1D(32, 5, activation=\"relu\")(x)\n",
        "x = layers.GlobalMaxPool1D()(x)\n",
        "output = layers.Dense(1, \"sigmoid\")(x)\n",
        "model_4 = tf.keras.Model(inputs, output)\n",
        "\n",
        "# Compile model\n",
        "model_4.compile(loss = tf.keras.losses.BinaryCrossentropy(),\n",
        "                optimizer = tf.keras.optimizers.Adam(),\n",
        "                metrics = [\"accuracy\"])\n",
        "\n",
        "# Fit model\n",
        "history_4 = model_4.fit(X_train, y_train, epochs=5,\n",
        "                        validation_data=(X_test, y_test),\n",
        "                        callbacks=[create_tensorboard_callback(\"CNN\")])\n",
        "\n",
        "# Plot validation accuracy\n",
        "pd.DataFrame(history_4.history).plot();\n",
        "plt.xlabel(\"Epochs\")"
      ],
      "execution_count": 20,
      "outputs": [
        {
          "output_type": "stream",
          "text": [
            "Saving TensorBoard log files to: TensorBoard_Experiments/CNN/20210817-182023\n",
            "Epoch 1/5\n",
            "191/191 [==============================] - 28s 11ms/step - loss: 0.5809 - accuracy: 0.7140 - val_loss: 0.4733 - val_accuracy: 0.7899\n",
            "Epoch 2/5\n",
            "191/191 [==============================] - 1s 5ms/step - loss: 0.3466 - accuracy: 0.8599 - val_loss: 0.4697 - val_accuracy: 0.7991\n",
            "Epoch 3/5\n",
            "191/191 [==============================] - 1s 5ms/step - loss: 0.2057 - accuracy: 0.9289 - val_loss: 0.5236 - val_accuracy: 0.7886\n",
            "Epoch 4/5\n",
            "191/191 [==============================] - 1s 5ms/step - loss: 0.1268 - accuracy: 0.9585 - val_loss: 0.5936 - val_accuracy: 0.7676\n",
            "Epoch 5/5\n",
            "191/191 [==============================] - 1s 5ms/step - loss: 0.0881 - accuracy: 0.9713 - val_loss: 0.6547 - val_accuracy: 0.7827\n"
          ],
          "name": "stdout"
        },
        {
          "output_type": "execute_result",
          "data": {
            "text/plain": [
              "Text(0.5, 0, 'Epochs')"
            ]
          },
          "metadata": {
            "tags": []
          },
          "execution_count": 20
        },
        {
          "output_type": "display_data",
          "data": {
            "image/png": "[encoded data removed]",
            "text/plain": [
              "<Figure size 432x288 with 1 Axes>"
            ]
          },
          "metadata": {
            "tags": [],
            "needs_background": "light"
          }
        }
      ]
    },
    {
      "cell_type": "markdown",
      "metadata": {
        "id": "J-6WaIN_gbg9"
      },
      "source": [
        "## Model 5 (Universal Sentence Encoder)\n",
        "* 79.45% accuracy\n",
        "* Overfitting"
      ]
    },
    {
      "cell_type": "code",
      "metadata": {
        "colab": {
          "base_uri": "https://localhost:8080/",
          "height": 649
        },
        "id": "_TZZx5iRiYFh",
        "outputId": "2c6d87c2-a001-45fc-8447-b0f04b7fec8c"
      },
      "source": [
        "import tensorflow_hub as hub\n",
        "# Making USE layer\n",
        "USE_layer = hub.KerasLayer(\"https://tfhub.dev/google/universal-sentence-encoder/4\",\n",
        "                            input_shape=[], dtype=tf.string, trainable=False)\n",
        "\n",
        "# Build model\n",
        "model_5 = tf.keras.Sequential([\n",
        "  USE_layer,\n",
        "  layers.Dense(64, \"relu\"),\n",
        "  layers.Dropout(0.2),\n",
        "  layers.BatchNormalization(),\n",
        "  layers.Dense(1, \"sigmoid\")\n",
        "])\n",
        "\n",
        "# Compile model\n",
        "model_5.compile(loss = tf.keras.losses.BinaryCrossentropy(),\n",
        "                optimizer = tf.keras.optimizers.Adam(),\n",
        "                metrics = [\"accuracy\"])\n",
        "\n",
        "# Fit model\n",
        "history_5 = model_5.fit(X_train, y_train, epochs=10,\n",
        "                        validation_data=(X_test, y_test),\n",
        "                        callbacks=[create_tensorboard_callback(\"USE\")])\n",
        "\n",
        "# Plot validation accuracy\n",
        "pd.DataFrame(history_5.history).plot();\n",
        "plt.xlabel(\"Epochs\")"
      ],
      "execution_count": 21,
      "outputs": [
        {
          "output_type": "stream",
          "text": [
            "Saving TensorBoard log files to: TensorBoard_Experiments/USE/20210817-182120\n",
            "Epoch 1/10\n",
            "191/191 [==============================] - 7s 23ms/step - loss: 0.4873 - accuracy: 0.7704 - val_loss: 0.5940 - val_accuracy: 0.7236\n",
            "Epoch 2/10\n",
            "191/191 [==============================] - 3s 13ms/step - loss: 0.3925 - accuracy: 0.8273 - val_loss: 0.4973 - val_accuracy: 0.8122\n",
            "Epoch 3/10\n",
            "191/191 [==============================] - 3s 14ms/step - loss: 0.3587 - accuracy: 0.8427 - val_loss: 0.4448 - val_accuracy: 0.8102\n",
            "Epoch 4/10\n",
            "191/191 [==============================] - 3s 14ms/step - loss: 0.3207 - accuracy: 0.8616 - val_loss: 0.4664 - val_accuracy: 0.8017\n",
            "Epoch 5/10\n",
            "191/191 [==============================] - 2s 12ms/step - loss: 0.2947 - accuracy: 0.8742 - val_loss: 0.4926 - val_accuracy: 0.8037\n",
            "Epoch 6/10\n",
            "191/191 [==============================] - 3s 14ms/step - loss: 0.2713 - accuracy: 0.8901 - val_loss: 0.5088 - val_accuracy: 0.8083\n",
            "Epoch 7/10\n",
            "191/191 [==============================] - 3s 13ms/step - loss: 0.2469 - accuracy: 0.9023 - val_loss: 0.5309 - val_accuracy: 0.8011\n",
            "Epoch 8/10\n",
            "191/191 [==============================] - 3s 14ms/step - loss: 0.2200 - accuracy: 0.9128 - val_loss: 0.5620 - val_accuracy: 0.7971\n",
            "Epoch 9/10\n",
            "191/191 [==============================] - 3s 14ms/step - loss: 0.1990 - accuracy: 0.9232 - val_loss: 0.5926 - val_accuracy: 0.7951\n",
            "Epoch 10/10\n",
            "191/191 [==============================] - 2s 12ms/step - loss: 0.1807 - accuracy: 0.9323 - val_loss: 0.5829 - val_accuracy: 0.7991\n"
          ],
          "name": "stdout"
        },
        {
          "output_type": "execute_result",
          "data": {
            "text/plain": [
              "Text(0.5, 0, 'Epochs')"
            ]
          },
          "metadata": {
            "tags": []
          },
          "execution_count": 21
        },
        {
          "output_type": "display_data",
          "data": {
            "image/png": "[encoded data removed]",
            "text/plain": [
              "<Figure size 432x288 with 1 Axes>"
            ]
          },
          "metadata": {
            "tags": [],
            "needs_background": "light"
          }
        }
      ]
    },
    {
      "cell_type": "markdown",
      "metadata": {
        "id": "_iFjyF4MU2Yh"
      },
      "source": [
        "## TensorBoard"
      ]
    },
    {
      "cell_type": "code",
      "metadata": {
        "id": "vU7Qny_MU4Dh"
      },
      "source": [
        "# Upload TensorBoard dev records\n",
        "!tensorboard dev upload --logdir ./TensorBoard_Experiments \\\n",
        "  --name \"NLP modelling experiments on disaster tweets dataset\" \\\n",
        "  --description \"A series of different NLP modellings experiments with various models\" \\\n",
        "  --one_shot"
      ],
      "execution_count": null,
      "outputs": []
    },
    {
      "cell_type": "markdown",
      "metadata": {
        "id": "qGN_qgkTWxKl"
      },
      "source": [
        "View TensorBoard Records at https://tensorboard.dev/experiment/RWmJL5wrSVmBbFAaIN1jXw/ "
      ]
    }
  ]
}